{
  "cells": [
    {
      "cell_type": "markdown",
      "metadata": {
        "id": "oJavp4chTUxi"
      },
      "source": [
        "## Imports"
      ]
    },
    {
      "cell_type": "code",
      "execution_count": null,
      "metadata": {
        "id": "ZbM5BOZMxBEc"
      },
      "outputs": [],
      "source": [
        "%matplotlib inline\n",
        "from copy import deepcopy\n",
        "from collections import OrderedDict\n",
        "import gc\n",
        "import matplotlib.pyplot as plt\n",
        "from tqdm import tqdm_notebook\n",
        "import numpy as np\n",
        "import pandas as pd\n",
        "import torch\n",
        "import torch.nn as nn\n",
        "import torch.nn.functional as F\n",
        "from torch.optim import SGD,Adam,lr_scheduler\n",
        "from torch.utils.data import random_split\n",
        "import torchvision\n",
        "from torchvision import transforms,models\n",
        "from pathlib import Path"
      ]
    },
    {
      "cell_type": "markdown",
      "metadata": {
        "id": "cQZCBXz3TaE5"
      },
      "source": [
        "## Loading data"
      ]
    },
    {
      "cell_type": "code",
      "execution_count": null,
      "metadata": {
        "colab": {
          "base_uri": "https://localhost:8080/"
        },
        "id": "32hMa54hzNFL",
        "outputId": "f8898d47-418f-4c96-a8e0-829e7f2b671a"
      },
      "outputs": [
        {
          "name": "stdout",
          "output_type": "stream",
          "text": [
            "Downloading https://www.cs.toronto.edu/~kriz/cifar-10-python.tar.gz to ./cifar-10-python.tar.gz\n"
          ]
        },
        {
          "name": "stderr",
          "output_type": "stream",
          "text": [
            "100%|██████████| 170498071/170498071 [00:03<00:00, 43280598.49it/s]\n"
          ]
        },
        {
          "name": "stdout",
          "output_type": "stream",
          "text": [
            "Extracting ./cifar-10-python.tar.gz to .\n"
          ]
        }
      ],
      "source": [
        "train_transform = transforms.Compose([\n",
        "    transforms.Resize(224),\n",
        "    transforms.RandomHorizontalFlip(p=.40),\n",
        "    transforms.RandomRotation(30),\n",
        "    transforms.ToTensor(),\n",
        "    transforms.Normalize([0.485, 0.456, 0.406], [0.229, 0.224, 0.225])])\n",
        "\n",
        "test_transform = transforms.Compose([\n",
        "    transforms.Resize(224),\n",
        "    transforms.ToTensor(),\n",
        "    transforms.Normalize([0.485, 0.456, 0.406], [0.229, 0.224, 0.225])])\n",
        "\n",
        "traindata = torchvision.datasets.CIFAR10(root='.', train=True,download=True , transform=train_transform)\n",
        "trainset,valset = random_split(traindata,[42000,8000])\n",
        "trainloader = torch.utils.data.DataLoader(trainset, batch_size=64,shuffle=True)\n",
        "valloader = torch.utils.data.DataLoader(valset, batch_size=64,shuffle=False)\n",
        "\n",
        "testset = torchvision.datasets.CIFAR10(root='.', train=False,download=False, transform=test_transform)\n",
        "testloader = torch.utils.data.DataLoader(testset, batch_size=64,shuffle=False)\n",
        "\n",
        "classes = ('plane', 'car', 'bird', 'cat','deer', 'dog', 'frog', 'horse', 'ship', 'truck')"
      ]
    },
    {
      "cell_type": "markdown",
      "metadata": {
        "id": "bTzhD0CiTiQx"
      },
      "source": [
        "## Training or loading trained model"
      ]
    },
    {
      "cell_type": "code",
      "execution_count": null,
      "metadata": {
        "colab": {
          "base_uri": "https://localhost:8080/"
        },
        "id": "SpxHaFjrzZIl",
        "outputId": "79439c9d-d9a2-48ea-cc84-c650837fdfe2"
      },
      "outputs": [
        {
          "data": {
            "text/plain": [
              "['base', 'drop', 'final']"
            ]
          },
          "execution_count": 9,
          "metadata": {},
          "output_type": "execute_result"
        }
      ],
      "source": [
        "class Model(nn.Module):\n",
        "    def __init__(self):\n",
        "        super().__init__()\n",
        "        base = models.resnet34(pretrained=True)\n",
        "        self.base = nn.Sequential(*list(base.children())[:-1])\n",
        "        in_features = base.fc.in_features\n",
        "        self.drop = nn.Dropout()\n",
        "        self.final = nn.Linear(in_features,10)\n",
        "\n",
        "    def forward(self,x):\n",
        "        x = self.base(x)\n",
        "        x = self.drop(x.view(-1,self.final.in_features))\n",
        "        return self.final(x)\n",
        "\n",
        "model = Model()\n",
        "MODEL_PATH = Path(\"models\")\n",
        "MODEL_PATH.mkdir(parents=True, exist_ok=True)\n",
        "MODEL_NAME = \"ResNet34_CIFAR10.pth\"\n",
        "MODEL_SAVE_PATH = MODEL_PATH / MODEL_NAME\n",
        "pretrained = False\n",
        "device = \"cuda\" if torch.cuda.is_available() else \"cpu\"\n",
        "if MODEL_SAVE_PATH.is_file():\n",
        "  model.load_state_dict(torch.load(f=MODEL_SAVE_PATH, map_location=device))\n",
        "  pretrained = True\n",
        "else:\n",
        "  model = Model().to(device)\n",
        "[x for x,y in model.named_children()]"
      ]
    },
    {
      "cell_type": "code",
      "execution_count": null,
      "metadata": {
        "id": "-UFsDcHazpFs"
      },
      "outputs": [],
      "source": [
        "criterion = nn.CrossEntropyLoss()\n",
        "param_groups = [\n",
        "    {'params':model.base.parameters(),'lr':.0001},\n",
        "    {'params':model.final.parameters(),'lr':.001}\n",
        "]\n",
        "optimizer = Adam(param_groups)\n",
        "lr_scheduler = lr_scheduler.StepLR(optimizer, step_size=1, gamma=0.1)\n",
        "states = {}"
      ]
    },
    {
      "cell_type": "code",
      "execution_count": null,
      "metadata": {
        "id": "nzllDUAizr7O"
      },
      "outputs": [],
      "source": [
        "best_val_acc = -1000\n",
        "best_val_model = None\n",
        "if not pretrained:\n",
        "  for epoch in range(5):\n",
        "      model.train(True)\n",
        "      running_loss = 0.0\n",
        "      running_acc = 0\n",
        "      for i, data in enumerate(trainloader, 0):\n",
        "          inputs, labels = data\n",
        "          inputs, labels = inputs.to(device),labels.to(device)\n",
        "\n",
        "          optimizer.zero_grad()\n",
        "          outputs = model(inputs)\n",
        "          loss = criterion(outputs, labels)\n",
        "          loss.backward()\n",
        "          optimizer.step()\n",
        "\n",
        "          # print statistics\n",
        "          running_loss += loss.item() * inputs.size(0)\n",
        "          out = torch.argmax(outputs.detach(),dim=1)\n",
        "          assert out.shape==labels.shape\n",
        "          running_acc += (labels==out).sum().item()\n",
        "      print(f\"Train loss {epoch+1}: {running_loss/len(trainset)},Train Acc:{running_acc*100/len(trainset)}%\")\n",
        "\n",
        "      correct = 0\n",
        "      model.train(False)\n",
        "      with torch.no_grad():\n",
        "          for inputs,labels in valloader:\n",
        "              out = model(inputs.to(device)).cpu()\n",
        "              out = torch.argmax(out,dim=1)\n",
        "              acc = (out==labels).sum().item()\n",
        "              correct += acc\n",
        "      print(f\"Val accuracy:{correct*100/len(valset)}%\")\n",
        "      if correct>best_val_acc:\n",
        "          best_val_acc = correct\n",
        "          best_val_model = deepcopy(model.state_dict())\n",
        "      lr_scheduler.step()\n",
        "  torch.save(obj=model.state_dict(), f=MODEL_SAVE_PATH)\n",
        "  print('Finished Training')"
      ]
    },
    {
      "cell_type": "markdown",
      "metadata": {
        "id": "YeExOO08ZFQo"
      },
      "source": [
        "## Pruning"
      ]
    },
    {
      "cell_type": "code",
      "execution_count": null,
      "metadata": {
        "colab": {
          "base_uri": "https://localhost:8080/"
        },
        "id": "Qf07wIcEftAu",
        "outputId": "12265e66-9d37-4708-f368-904baff74d1a"
      },
      "outputs": [
        {
          "name": "stdout",
          "output_type": "stream",
          "text": [
            "Collecting torch-pruning\n",
            "  Downloading torch_pruning-1.4.2-py3-none-any.whl.metadata (29 kB)\n",
            "Requirement already satisfied: torch in /usr/local/lib/python3.10/dist-packages (from torch-pruning) (2.3.1+cu121)\n",
            "Requirement already satisfied: numpy in /usr/local/lib/python3.10/dist-packages (from torch-pruning) (1.26.4)\n",
            "Requirement already satisfied: filelock in /usr/local/lib/python3.10/dist-packages (from torch->torch-pruning) (3.15.4)\n",
            "Requirement already satisfied: typing-extensions>=4.8.0 in /usr/local/lib/python3.10/dist-packages (from torch->torch-pruning) (4.12.2)\n",
            "Requirement already satisfied: sympy in /usr/local/lib/python3.10/dist-packages (from torch->torch-pruning) (1.13.1)\n",
            "Requirement already satisfied: networkx in /usr/local/lib/python3.10/dist-packages (from torch->torch-pruning) (3.3)\n",
            "Requirement already satisfied: jinja2 in /usr/local/lib/python3.10/dist-packages (from torch->torch-pruning) (3.1.4)\n",
            "Requirement already satisfied: fsspec in /usr/local/lib/python3.10/dist-packages (from torch->torch-pruning) (2024.6.1)\n",
            "Collecting nvidia-cuda-nvrtc-cu12==12.1.105 (from torch->torch-pruning)\n",
            "  Using cached nvidia_cuda_nvrtc_cu12-12.1.105-py3-none-manylinux1_x86_64.whl.metadata (1.5 kB)\n",
            "Collecting nvidia-cuda-runtime-cu12==12.1.105 (from torch->torch-pruning)\n",
            "  Using cached nvidia_cuda_runtime_cu12-12.1.105-py3-none-manylinux1_x86_64.whl.metadata (1.5 kB)\n",
            "Collecting nvidia-cuda-cupti-cu12==12.1.105 (from torch->torch-pruning)\n",
            "  Using cached nvidia_cuda_cupti_cu12-12.1.105-py3-none-manylinux1_x86_64.whl.metadata (1.6 kB)\n",
            "Collecting nvidia-cudnn-cu12==8.9.2.26 (from torch->torch-pruning)\n",
            "  Using cached nvidia_cudnn_cu12-8.9.2.26-py3-none-manylinux1_x86_64.whl.metadata (1.6 kB)\n",
            "Collecting nvidia-cublas-cu12==12.1.3.1 (from torch->torch-pruning)\n",
            "  Using cached nvidia_cublas_cu12-12.1.3.1-py3-none-manylinux1_x86_64.whl.metadata (1.5 kB)\n",
            "Collecting nvidia-cufft-cu12==11.0.2.54 (from torch->torch-pruning)\n",
            "  Using cached nvidia_cufft_cu12-11.0.2.54-py3-none-manylinux1_x86_64.whl.metadata (1.5 kB)\n",
            "Collecting nvidia-curand-cu12==10.3.2.106 (from torch->torch-pruning)\n",
            "  Using cached nvidia_curand_cu12-10.3.2.106-py3-none-manylinux1_x86_64.whl.metadata (1.5 kB)\n",
            "Collecting nvidia-cusolver-cu12==11.4.5.107 (from torch->torch-pruning)\n",
            "  Using cached nvidia_cusolver_cu12-11.4.5.107-py3-none-manylinux1_x86_64.whl.metadata (1.6 kB)\n",
            "Collecting nvidia-cusparse-cu12==12.1.0.106 (from torch->torch-pruning)\n",
            "  Using cached nvidia_cusparse_cu12-12.1.0.106-py3-none-manylinux1_x86_64.whl.metadata (1.6 kB)\n",
            "Collecting nvidia-nccl-cu12==2.20.5 (from torch->torch-pruning)\n",
            "  Using cached nvidia_nccl_cu12-2.20.5-py3-none-manylinux2014_x86_64.whl.metadata (1.8 kB)\n",
            "Collecting nvidia-nvtx-cu12==12.1.105 (from torch->torch-pruning)\n",
            "  Using cached nvidia_nvtx_cu12-12.1.105-py3-none-manylinux1_x86_64.whl.metadata (1.7 kB)\n",
            "Requirement already satisfied: triton==2.3.1 in /usr/local/lib/python3.10/dist-packages (from torch->torch-pruning) (2.3.1)\n",
            "Collecting nvidia-nvjitlink-cu12 (from nvidia-cusolver-cu12==11.4.5.107->torch->torch-pruning)\n",
            "  Using cached nvidia_nvjitlink_cu12-12.6.20-py3-none-manylinux2014_x86_64.whl.metadata (1.5 kB)\n",
            "Requirement already satisfied: MarkupSafe>=2.0 in /usr/local/lib/python3.10/dist-packages (from jinja2->torch->torch-pruning) (2.1.5)\n",
            "Requirement already satisfied: mpmath<1.4,>=1.1.0 in /usr/local/lib/python3.10/dist-packages (from sympy->torch->torch-pruning) (1.3.0)\n",
            "Downloading torch_pruning-1.4.2-py3-none-any.whl (61 kB)\n",
            "\u001b[2K   \u001b[90m━━━━━━━━━━━━━━━━━━━━━━━━━━━━━━━━━━━━━━━━\u001b[0m \u001b[32m61.9/61.9 kB\u001b[0m \u001b[31m3.6 MB/s\u001b[0m eta \u001b[36m0:00:00\u001b[0m\n",
            "\u001b[?25hUsing cached nvidia_cublas_cu12-12.1.3.1-py3-none-manylinux1_x86_64.whl (410.6 MB)\n",
            "Using cached nvidia_cuda_cupti_cu12-12.1.105-py3-none-manylinux1_x86_64.whl (14.1 MB)\n",
            "Using cached nvidia_cuda_nvrtc_cu12-12.1.105-py3-none-manylinux1_x86_64.whl (23.7 MB)\n",
            "Using cached nvidia_cuda_runtime_cu12-12.1.105-py3-none-manylinux1_x86_64.whl (823 kB)\n",
            "Using cached nvidia_cudnn_cu12-8.9.2.26-py3-none-manylinux1_x86_64.whl (731.7 MB)\n",
            "Using cached nvidia_cufft_cu12-11.0.2.54-py3-none-manylinux1_x86_64.whl (121.6 MB)\n",
            "Using cached nvidia_curand_cu12-10.3.2.106-py3-none-manylinux1_x86_64.whl (56.5 MB)\n",
            "Using cached nvidia_cusolver_cu12-11.4.5.107-py3-none-manylinux1_x86_64.whl (124.2 MB)\n",
            "Using cached nvidia_cusparse_cu12-12.1.0.106-py3-none-manylinux1_x86_64.whl (196.0 MB)\n",
            "Using cached nvidia_nccl_cu12-2.20.5-py3-none-manylinux2014_x86_64.whl (176.2 MB)\n",
            "Using cached nvidia_nvtx_cu12-12.1.105-py3-none-manylinux1_x86_64.whl (99 kB)\n",
            "Using cached nvidia_nvjitlink_cu12-12.6.20-py3-none-manylinux2014_x86_64.whl (19.7 MB)\n",
            "Installing collected packages: nvidia-nvtx-cu12, nvidia-nvjitlink-cu12, nvidia-nccl-cu12, nvidia-curand-cu12, nvidia-cufft-cu12, nvidia-cuda-runtime-cu12, nvidia-cuda-nvrtc-cu12, nvidia-cuda-cupti-cu12, nvidia-cublas-cu12, nvidia-cusparse-cu12, nvidia-cudnn-cu12, nvidia-cusolver-cu12, torch-pruning\n",
            "Successfully installed nvidia-cublas-cu12-12.1.3.1 nvidia-cuda-cupti-cu12-12.1.105 nvidia-cuda-nvrtc-cu12-12.1.105 nvidia-cuda-runtime-cu12-12.1.105 nvidia-cudnn-cu12-8.9.2.26 nvidia-cufft-cu12-11.0.2.54 nvidia-curand-cu12-10.3.2.106 nvidia-cusolver-cu12-11.4.5.107 nvidia-cusparse-cu12-12.1.0.106 nvidia-nccl-cu12-2.20.5 nvidia-nvjitlink-cu12-12.6.20 nvidia-nvtx-cu12-12.1.105 torch-pruning-1.4.2\n"
          ]
        }
      ],
      "source": [
        "!pip install torch-pruning"
      ]
    },
    {
      "cell_type": "code",
      "execution_count": null,
      "metadata": {
        "id": "ewUjXFLjgCnP"
      },
      "outputs": [],
      "source": [
        "import torch_pruning as tp"
      ]
    },
    {
      "cell_type": "code",
      "execution_count": null,
      "metadata": {
        "colab": {
          "background_save": true,
          "base_uri": "https://localhost:8080/"
        },
        "id": "tX9O0sFLteS5",
        "outputId": "94dd4907-6617-4192-989d-f7947bac5d0f"
      },
      "outputs": [
        {
          "name": "stdout",
          "output_type": "stream",
          "text": [
            "  Iter 1/1, Params: 21.29 M => 10.40 M\n",
            "  Iter 1/1, MACs: 3.68 G => 1.81 G\n"
          ]
        }
      ],
      "source": [
        "model = Model()\n",
        "model.load_state_dict(torch.load(f=MODEL_SAVE_PATH, map_location=device))\n",
        "\n",
        "criterion = nn.CrossEntropyLoss()\n",
        "param_groups = [\n",
        "    {'params':model.base.parameters(),'lr':.0001},\n",
        "    {'params':model.final.parameters(),'lr':.001}\n",
        "]\n",
        "optimizer = Adam(param_groups)\n",
        "lr_scheduler = lr_scheduler.StepLR(optimizer, step_size=1, gamma=0.1)\n",
        "\n",
        "example_inputs = None\n",
        "for data in trainloader:\n",
        "  example_inputs, _ = data\n",
        "  example_inputs = example_inputs.to(device)\n",
        "  break\n",
        "# 1. Importance criterion\n",
        "imp = tp.importance.GroupTaylorImportance()\n",
        "\n",
        "# 2. Initialize a pruner with the model and the importance criterion\n",
        "ignored_layers = []\n",
        "for m in model.modules():\n",
        "    if isinstance(m, torch.nn.Linear):\n",
        "      ignored_layers.append(m)\n",
        "\n",
        "pruner = tp.pruner.MetaPruner(\n",
        "    model,\n",
        "    example_inputs,\n",
        "    global_pruning=False,\n",
        "    importance=imp,\n",
        "    pruning_ratio=0.3, # <== Modify the pruning ratio here\n",
        "    ignored_layers=ignored_layers,\n",
        ")\n",
        "\n",
        "base_macs, base_nparams = tp.utils.count_ops_and_params(model, example_inputs)\n",
        "# 3. Prune\n",
        "for data in trainloader:\n",
        "  inputs, labels = data\n",
        "  outputs = model(inputs.to(device)).cpu()\n",
        "  loss = criterion(outputs, labels)\n",
        "  loss.backward()\n",
        "  break\n",
        "pruner.step()\n",
        "macs, nparams = tp.utils.count_ops_and_params(model, example_inputs)\n",
        "print(\n",
        "    \"  Iter %d/%d, Params: %.2f M => %.2f M\"\n",
        "    % (i+1, 1, base_nparams / 1e6, nparams / 1e6)\n",
        ")\n",
        "print(\n",
        "    \"  Iter %d/%d, MACs: %.2f G => %.2f G\"\n",
        "    % (i+1, 1, base_macs / 1e9, macs / 1e9)\n",
        ")\n",
        "\n",
        "for epoch in range(5): # <== Use 10 epochs for double retraining\n",
        "    model.train()\n",
        "    pruner.update_regularizer() # initialize regularizer\n",
        "    for data in trainloader:\n",
        "        inputs, labels = data\n",
        "        inputs, labels = inputs.to(device), labels.to(device)\n",
        "        out = model(inputs)\n",
        "        loss = criterion(out, labels)\n",
        "        optimizer.zero_grad()\n",
        "        loss.backward()\n",
        "        pruner.regularize(model, loss)\n",
        "        optimizer.step()\n",
        "\n",
        "#Accuracy:\n",
        "correct = 0\n",
        "model.train(False)\n",
        "with torch.inference_mode():\n",
        "    for inputs,labels in testloader:\n",
        "        out = model(inputs.to(device)).cpu()\n",
        "        out = torch.argmax(out,dim=1)\n",
        "        acc = (out==labels).sum().item()\n",
        "        correct += acc\n",
        "print(f\"Test accuracy (post-retrain): {correct*100/len(testset)}%\")"
      ]
    },
    {
      "cell_type": "code",
      "execution_count": null,
      "metadata": {
        "colab": {
          "base_uri": "https://localhost:8080/",
          "height": 628
        },
        "id": "7EiFoK6cNqgs",
        "outputId": "7d219c48-0f9d-41e3-e434-be02074851d2"
      },
      "outputs": [
        {
          "name": "stdout",
          "output_type": "stream",
          "text": [
            "   Parameters post-pruning  Accuracy Pre-Retraining  Accuracy Post-Retraining  Accuracy Double-Retraining\n",
            "0                    21.29                    95.85                     95.85                       95.85\n",
            "1                    20.18                    95.34                     95.41                       94.43\n",
            "2                    19.17                    93.30                     95.16                       94.33\n",
            "3                    17.18                    77.08                     94.25                       94.47\n",
            "4                    13.56                    53.10                     90.80                       95.08\n",
            "5                    10.40                    39.86                     80.13                       94.15\n",
            "6                     7.63                    11.96                     41.50                       92.30\n",
            "7                     5.33                    10.25                     37.93                       92.52\n"
          ]
        },
        {
          "data": {
            "text/plain": [
              "<matplotlib.legend.Legend at 0x7cd206ae92d0>"
            ]
          },
          "execution_count": 20,
          "metadata": {},
          "output_type": "execute_result"
        },
        {
          "data": {
            "image/png": "[encoded data removed]",
            "text/plain": [
              "<Figure size 640x480 with 1 Axes>"
            ]
          },
          "metadata": {},
          "output_type": "display_data"
        }
      ],
      "source": [
        "# Results can be checked in the cell above.\n",
        "# The actual pruning ratios are 1-(number of parameters after pruning)/(number of parameters before pruning)\n",
        "df = pd.read_csv('ResNet34_data.csv')\n",
        "print(df.to_string())\n",
        "initial_parameters = 21.29 #Number of parameters in ResNet34 on CIFAR-10 without pruning [in million]\n",
        "pruned_params = df[\"Parameters post-pruning\"] #Number of parameters in ResNet34 on CIFAR-10 after pruning [in million] - Using \"pruning_ratio\": [0, 0.025, 0.05, 0.1, 0.2, 0.3, 0.4, 0.5]\n",
        "pruning_ratios = [1-x/initial_parameters for x in pruned_params]\n",
        "pre_accuracies = df[\"Accuracy Pre-Retraining\"] #Before retraining\n",
        "post_accuracies = df[\"Accuracy Post-Retraining\"] #After retraining (5 epochs)\n",
        "double_retrain_accuracies = df[\"Accuracy Double-Retraining\"] #After retraining twice\n",
        "plt.plot(pruning_ratios, pre_accuracies, label=\"Pre-Retraining Accuracy\")\n",
        "plt.plot(pruning_ratios, post_accuracies, label=\"Post-Retraining Accuracy\")\n",
        "plt.plot(pruning_ratios, double_retrain_accuracies, label=\"Double-Retraining Accuracy\")\n",
        "plt.ylabel(\"Accuracy [%]\")\n",
        "plt.xlabel(\"Pruning Ratio\")\n",
        "plt.legend()"
      ]
    }
  ],
  "metadata": {
    "colab": {
      "provenance": []
    },
    "kernelspec": {
      "display_name": "Python 3",
      "name": "python3"
    },
    "language_info": {
      "name": "python"
    }
  },
  "nbformat": 4,
  "nbformat_minor": 0
}